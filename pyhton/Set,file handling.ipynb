{
 "cells": [
  {
   "cell_type": "markdown",
   "metadata": {},
   "source": [
    "# Sets"
   ]
  },
  {
   "cell_type": "markdown",
   "metadata": {},
   "source": [
    "A set is a collection which is unordered and unindexed. In Python sets are written with curly brackets."
   ]
  },
  {
   "cell_type": "code",
   "execution_count": 18,
   "metadata": {},
   "outputs": [
    {
     "name": "stdout",
     "output_type": "stream",
     "text": [
      "{1, 3, 'banana', 'apple', 'cherry'}\n"
     ]
    },
    {
     "data": {
      "text/plain": [
       "{1, 3, 4, 5}"
      ]
     },
     "execution_count": 18,
     "metadata": {},
     "output_type": "execute_result"
    }
   ],
   "source": [
    "thisset = {\"apple\", \"banana\", \"cherry\",\"cherry\",1,3,'apple'}\n",
    "print(thisset)\n",
    "l=[1,1,1,1,3,4,5]\n",
    "s=set(l)\n",
    "s"
   ]
  },
  {
   "cell_type": "code",
   "execution_count": 17,
   "metadata": {},
   "outputs": [
    {
     "name": "stdout",
     "output_type": "stream",
     "text": [
      "cherry\n",
      "banana\n",
      "apple\n"
     ]
    }
   ],
   "source": [
    "thisset = {\"apple\", \"banana\", \"cherry\"}\n",
    "\n",
    "for x in thisset:\n",
    "  print(x)"
   ]
  },
  {
   "cell_type": "code",
   "execution_count": 5,
   "metadata": {},
   "outputs": [
    {
     "name": "stdout",
     "output_type": "stream",
     "text": [
      "True\n"
     ]
    }
   ],
   "source": [
    "thisset = {\"apple\", \"banana\", \"cherry\"}\n",
    "\n",
    "print(\"banana\" in thisset)"
   ]
  },
  {
   "cell_type": "code",
   "execution_count": 6,
   "metadata": {},
   "outputs": [
    {
     "name": "stdout",
     "output_type": "stream",
     "text": [
      "{'banana', 'apple', 'cherry', 'orange'}\n"
     ]
    }
   ],
   "source": [
    "thisset = {\"apple\", \"banana\", \"cherry\"}\n",
    "\n",
    "thisset.add(\"orange\")\n",
    "\n",
    "print(thisset)"
   ]
  },
  {
   "cell_type": "code",
   "execution_count": 2,
   "metadata": {},
   "outputs": [
    {
     "name": "stdout",
     "output_type": "stream",
     "text": [
      "{'orange', 'banana', 'grapes', 'apple', 'cherry', 'mango'}\n"
     ]
    }
   ],
   "source": [
    "#To add multiple data\n",
    "thisset = {\"apple\", \"banana\", \"cherry\"}\n",
    "\n",
    "thisset.update([\"orange\", \"mango\", \"grapes\"])\n",
    "\n",
    "print(thisset)"
   ]
  },
  {
   "cell_type": "code",
   "execution_count": 8,
   "metadata": {},
   "outputs": [
    {
     "name": "stdout",
     "output_type": "stream",
     "text": [
      "3\n"
     ]
    }
   ],
   "source": [
    "thisset = {\"apple\", \"banana\", \"cherry\"}\n",
    "\n",
    "print(len(thisset))"
   ]
  },
  {
   "cell_type": "code",
   "execution_count": 4,
   "metadata": {},
   "outputs": [
    {
     "name": "stdout",
     "output_type": "stream",
     "text": [
      "{'cherry', 'apple'}\n"
     ]
    }
   ],
   "source": [
    "thisset = {\"apple\", \"banana\", \"cherry\"}\n",
    "\n",
    "thisset.remove(\"banana\")\n",
    "\n",
    "print(thisset)\n",
    "#Gives error if the item doest found"
   ]
  },
  {
   "cell_type": "code",
   "execution_count": 14,
   "metadata": {},
   "outputs": [
    {
     "name": "stdout",
     "output_type": "stream",
     "text": [
      "{'apple', 'cherry'}\n"
     ]
    }
   ],
   "source": [
    "thisset = {\"apple\", \"banana\", \"cherry\"}\n",
    "\n",
    "thisset.discard(\"banana\")\n",
    "\n",
    "print(thisset)\n",
    "#Never gives error"
   ]
  },
  {
   "cell_type": "markdown",
   "metadata": {},
   "source": [
    "# File Handling"
   ]
  },
  {
   "cell_type": "markdown",
   "metadata": {},
   "source": [
    "\"r\" - Read - Default value. Opens a file for reading, error if the file does not exist\n",
    "\n",
    "\"a\" - Append - Opens a file for appending, creates the file if it does not exist\n",
    "\n",
    "\"w\" - Write - Opens a file for writing, creates the file if it does not exist\n",
    "\n",
    "\"x\" - Create - Creates the specified file, returns an error if the file exists"
   ]
  },
  {
   "cell_type": "markdown",
   "metadata": {},
   "source": [
    "\"t\" - Text - Default value. Text mode\n",
    "\n",
    "\"b\" - Binary - Binary mode (e.g. images)"
   ]
  },
  {
   "cell_type": "code",
   "execution_count": 6,
   "metadata": {},
   "outputs": [
    {
     "name": "stdout",
     "output_type": "stream",
     "text": [
      "﻿The campus is aesthetically constructed in the court yard system, with spacious classrooms, well-equipped laboratories, Central Library, all modern acoustic facilities, beautifully designed food court and well developed sports ground with 400 meters athletic track, gymnasium, Hostel etc.\n",
      "\n",
      "The College is one among the few who can take pride in having a dedicated department for research, analyzing and developing effective methods of imparting quality education. The high quality teaching offered at Sahyadri is well complemented by the state-of the-art infrastructure and modern facilities like Government Research Center, Incubation, Placement & Training Center, Sahyadri Center for Social Innovation which includes Hands-on Experience Lab, Life Science Lab, Innovation Lab, and Makers Space. Sahyadri has started an Entrepreneurship Cell to ignite the creative thinking of students towards innovation and thereby mentoring them to become successful entrepreneurs by providing the right entrepreneurial ecosystem, with student start ups.\n",
      "\n",
      "Sahyadri College of Engineering & Management is a premier technological institution fostering excellence in education, research & values towards inspiring and developing future torchbearers. The institute is in existence since a decade, being recognized by AICTE, Government of India, affiliated to VTU, Government of Karnataka, NAAC accredited with “A” Grade, recognized by the UGC and certified by IAO & ISO 9001-2008. The institute is located on the banks of river Nethravathi, within the city limits at a short distance from the port city of Mangaluru, known as a popular education hub.\n",
      "\n",
      "The College offers B.E. Degree, Post-Graduation in M.Tech, MBA and Ph.D. Research Programs. The total staff and student strength at campus is nearly 4000. The College has Academic MoUs with various National, International Universities and also has collaborations with leading Corporate & Industries.Now the file has more content!Now the file has more content!Now the file has more content!Now the file has more content!Are you ready!\n",
      "\n",
      "\n",
      "\n",
      "\n",
      "hello world how are you\n",
      "\n",
      "Campus is not a place where the things can be done.\n",
      "\n",
      "\n"
     ]
    }
   ],
   "source": [
    "file=open(\"a.txt\",\"r\", encoding=\"utf8\")\n",
    "print(file.read())"
   ]
  },
  {
   "cell_type": "code",
   "execution_count": 8,
   "metadata": {},
   "outputs": [
    {
     "name": "stdout",
     "output_type": "stream",
     "text": [
      "﻿The campus is aesthetically constructed in the court yard system, with spacious classrooms, well-equipped laboratories, Central Library, all modern acoustic facilities, beautifully designed food court and well developed sports ground with 400 meters athletic track, gymnasium, Hostel etc.\n",
      "\n",
      "\n",
      "\n",
      "The College is one among the few who can take pride in having a dedicated department for research, analyzing and developing effective methods of imparting quality education. The high quality teaching offered at Sahyadri is well complemented by the state-of the-art infrastructure and modern facilities like Government Research Center, Incubation, Placement & Training Center, Sahyadri Center for Social Innovation which includes Hands-on Experience Lab, Life Science Lab, Innovation Lab, and Makers Space. Sahyadri has started an Entrepreneurship Cell to ignite the creative thinking of students towards innovation and thereby mentoring them to become successful entrepreneurs by providing the right entrepreneurial ecosystem, with student start ups.\n",
      "\n",
      "\n",
      "\n",
      "Sahyadri College of Engineering & Management is a premier technological institution fostering excellence in education, research & values towards inspiring and developing future torchbearers. The institute is in existence since a decade, being recognized by AICTE, Government of India, affiliated to VTU, Government of Karnataka, NAAC accredited with “A” Grade, recognized by the UGC and certified by IAO & ISO 9001-2008. The institute is located on the banks of river Nethravathi, within the city limits at a short distance from the port city of Mangaluru, known as a popular education hub.\n",
      "\n",
      "\n",
      "\n",
      "The College offers B.E. Degree, Post-Graduation in M.Tech, MBA and Ph.D. Research Programs. The total staff and student strength at campus is nearly 4000. The College has Academic MoUs with various National, International Universities and also has collaborations with leading Corporate & Industries.Now the file has more content!Now the file has more content!Now the file has more content!Now the file has more content!Are you ready!\n",
      "\n",
      "\n",
      "\n",
      "\n",
      "\n",
      "\n",
      "\n",
      "\n",
      "\n",
      "hello world how are you\n",
      "\n",
      "\n",
      "\n",
      "Campus is not a place where the things can be done.\n",
      "\n",
      "\n",
      "\n"
     ]
    }
   ],
   "source": [
    "file=open(\"a.txt\",\"r\", encoding=\"utf8\")\n",
    "for line in file:\n",
    "    print(line)\n",
    "\n",
    "file.close()"
   ]
  },
  {
   "cell_type": "code",
   "execution_count": 27,
   "metadata": {},
   "outputs": [
    {
     "name": "stdout",
     "output_type": "stream",
     "text": [
      "The c\n"
     ]
    }
   ],
   "source": [
    "file=open(\"a.txt\",\"r\", encoding=\"utf8\")\n",
    "print(file.read(5))\n",
    "#prints the specified number of characters"
   ]
  },
  {
   "cell_type": "code",
   "execution_count": 10,
   "metadata": {},
   "outputs": [
    {
     "name": "stdout",
     "output_type": "stream",
     "text": [
      "﻿The campus is aesthetically constructed in the court yard system, with spacious classrooms, well-equipped laboratories, Central Library, all modern acoustic facilities, beautifully designed food court and well developed sports ground with 400 meters athletic track, gymnasium, Hostel etc.\n",
      "\n",
      "The College is one among the few who can take pride in having a dedicated department for research, analyzing and developing effective methods of imparting quality education. The high quality teaching offered at Sahyadri is well complemented by the state-of the-art infrastructure and modern facilities like Government Research Center, Incubation, Placement & Training Center, Sahyadri Center for Social Innovation which includes Hands-on Experience Lab, Life Science Lab, Innovation Lab, and Makers Space. Sahyadri has started an Entrepreneurship Cell to ignite the creative thinking of students towards innovation and thereby mentoring them to become successful entrepreneurs by providing the right entrepreneurial ecosystem, with student start ups.\n",
      "\n",
      "Sahyadri College of Engineering & Management is a premier technological institution fostering excellence in education, research & values towards inspiring and developing future torchbearers. The institute is in existence since a decade, being recognized by AICTE, Government of India, affiliated to VTU, Government of Karnataka, NAAC accredited with “A” Grade, recognized by the UGC and certified by IAO & ISO 9001-2008. The institute is located on the banks of river Nethravathi, within the city limits at a short distance from the port city of Mangaluru, known as a popular education hub.\n",
      "\n",
      "The College offers B.E. Degree, Post-Graduation in M.Tech, MBA and Ph.D. Research Programs. The total staff and student strength at campus is nearly 4000. The College has Academic MoUs with various National, International Universities and also has collaborations with leading Corporate & Industries.Now the file has more content!Now the file has more content!Now the file has more content!Now the file has more content!Are you ready!\n",
      "\n",
      "\n",
      "\n",
      "\n",
      "hello world how are you\n",
      "\n",
      "Campus is not a place where the things can be done.\n",
      "\n",
      "Are you ready!\n",
      "Are you ready!\n"
     ]
    }
   ],
   "source": [
    "f = open(\"a.txt\", \"a\",encoding=\"utf8\")\n",
    "f.write(\"\\nAre you ready!\")\n",
    "f.close()\n",
    "\n",
    "#open and read the file after the appending:\n",
    "f = open(\"a.txt\", \"r\",encoding=\"utf8\")\n",
    "print(f.read())"
   ]
  },
  {
   "cell_type": "code",
   "execution_count": 37,
   "metadata": {},
   "outputs": [
    {
     "name": "stdout",
     "output_type": "stream",
     "text": [
      "Wow I am doing good !\n"
     ]
    }
   ],
   "source": [
    "f = open(\"demofile3.txt\", \"w\",encoding=\"utf8\")\n",
    "f.write(\"Wow I am doing good !\")\n",
    "f.close()\n",
    "\n",
    "#open and read the file after the appending:\n",
    "f = open(\"demofile3.txt\", \"r\",encoding=\"utf8\")\n",
    "print(f.read())\n",
    "#f.close()"
   ]
  },
  {
   "cell_type": "code",
   "execution_count": 38,
   "metadata": {},
   "outputs": [],
   "source": [
    "import os\n",
    "os.remove(\"demofile3.txt\")"
   ]
  },
  {
   "cell_type": "code",
   "execution_count": 39,
   "metadata": {},
   "outputs": [
    {
     "name": "stdout",
     "output_type": "stream",
     "text": [
      "The file does not exist\n"
     ]
    }
   ],
   "source": [
    "#To be safe\n",
    "import os\n",
    "if os.path.exists(\"demofile.txt\"):\n",
    "    os.remove(\"demofile.txt\")\n",
    "else:\n",
    "    print(\"The file does not exist\")"
   ]
  },
  {
   "cell_type": "code",
   "execution_count": 41,
   "metadata": {},
   "outputs": [],
   "source": [
    "import os\n",
    "os.mkdir(\"myfolder\")"
   ]
  },
  {
   "cell_type": "code",
   "execution_count": null,
   "metadata": {},
   "outputs": [],
   "source": [
    "import os\n",
    "os.rmdir(\"myfolder\")"
   ]
  },
  {
   "cell_type": "code",
   "execution_count": null,
   "metadata": {},
   "outputs": [],
   "source": []
  },
  {
   "cell_type": "code",
   "execution_count": null,
   "metadata": {},
   "outputs": [],
   "source": []
  },
  {
   "cell_type": "code",
   "execution_count": null,
   "metadata": {},
   "outputs": [],
   "source": []
  },
  {
   "cell_type": "code",
   "execution_count": null,
   "metadata": {},
   "outputs": [],
   "source": []
  },
  {
   "cell_type": "code",
   "execution_count": null,
   "metadata": {},
   "outputs": [],
   "source": []
  },
  {
   "cell_type": "code",
   "execution_count": null,
   "metadata": {},
   "outputs": [],
   "source": []
  },
  {
   "cell_type": "code",
   "execution_count": null,
   "metadata": {},
   "outputs": [],
   "source": []
  },
  {
   "cell_type": "code",
   "execution_count": null,
   "metadata": {},
   "outputs": [],
   "source": []
  },
  {
   "cell_type": "code",
   "execution_count": 42,
   "metadata": {},
   "outputs": [],
   "source": []
  },
  {
   "cell_type": "code",
   "execution_count": 45,
   "metadata": {},
   "outputs": [],
   "source": [
    "bd=['Ass','shit','fuck']\n",
    "f=open(\"a.txt\",encoding=\"utf8\")\n",
    "f1=open(\"sol.txt\",\"w\",encoding=\"utf8\")\n",
    "f1.close()\n",
    "f1=open(\"sol.txt\",\"a\",encoding=\"utf8\")\n",
    "for line in f:\n",
    "    a=line.split(' ')\n",
    "    for  i in a:\n",
    "        if i in bd:\n",
    "            f1.write(' '+'*'*len(i))\n",
    "        else:\n",
    "            f1.write(i)\n",
    "    f1.write('\\n')\n",
    "f1.close()"
   ]
  },
  {
   "cell_type": "code",
   "execution_count": null,
   "metadata": {},
   "outputs": [],
   "source": []
  }
 ],
 "metadata": {
  "kernelspec": {
   "display_name": "Python 3",
   "language": "python",
   "name": "python3"
  },
  "language_info": {
   "codemirror_mode": {
    "name": "ipython",
    "version": 3
   },
   "file_extension": ".py",
   "mimetype": "text/x-python",
   "name": "python",
   "nbconvert_exporter": "python",
   "pygments_lexer": "ipython3",
   "version": "3.7.3"
  }
 },
 "nbformat": 4,
 "nbformat_minor": 2
}
