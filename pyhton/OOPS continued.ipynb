{
 "cells": [
  {
   "cell_type": "markdown",
   "metadata": {},
   "source": [
    "# Multiple Inheritence"
   ]
  },
  {
   "cell_type": "code",
   "execution_count": 7,
   "metadata": {},
   "outputs": [
    {
     "name": "stdout",
     "output_type": "stream",
     "text": [
      "Base1\n",
      "Base2\n",
      "Derived\n",
      "Geek1 Geek2\n"
     ]
    }
   ],
   "source": [
    "class Base1(object): \n",
    "    def __init__(self): \n",
    "        self.str1 = \"Geek1\"\n",
    "        print(\"Base1\")\n",
    "  \n",
    "class Base2(object): \n",
    "    def __init__(self): \n",
    "        self.str2 = \"Geek2\"        \n",
    "        print(\"Base2\")\n",
    "  \n",
    "class Derived(Base1, Base2): \n",
    "    def __init__(self): \n",
    "          \n",
    "        # Calling constructors of Base1 \n",
    "        # and Base2 classes \n",
    "        Base1.__init__(self) \n",
    "        Base2.__init__(self) \n",
    "        print(\"Derived\")\n",
    "          \n",
    "    def printStrs(self): \n",
    "        print(self.str1, self.str2) \n",
    "         \n",
    "  \n",
    "ob = Derived() \n",
    "ob.printStrs() "
   ]
  },
  {
   "cell_type": "markdown",
   "metadata": {},
   "source": [
    "# Multilevel Inheritence"
   ]
  },
  {
   "cell_type": "code",
   "execution_count": 9,
   "metadata": {},
   "outputs": [
    {
     "name": "stdout",
     "output_type": "stream",
     "text": [
      "Geek1 23 Noida\n"
     ]
    }
   ],
   "source": [
    "class Base(object):     \n",
    "    def __init__(self, name): \n",
    "        self.name = name \n",
    "    def getName(self): \n",
    "        return self.name \n",
    "class Child(Base): \n",
    "    def __init__(self, name, age): \n",
    "        Base.__init__(self, name) \n",
    "        self.age = age \n",
    "    def getAge(self): \n",
    "        return self.age \n",
    "class GrandChild(Child): \n",
    "    def __init__(self, name, age, address): \n",
    "        Child.__init__(self, name, age) \n",
    "        self.address = address \n",
    "    def getAddress(self): \n",
    "        return self.address         \n",
    "g = GrandChild(\"Geek1\", 23, \"Noida\")   \n",
    "print(g.getName(), g.getAge(), g.getAddress())"
   ]
  },
  {
   "cell_type": "markdown",
   "metadata": {},
   "source": [
    "# Hierarchical inheritance"
   ]
  },
  {
   "cell_type": "code",
   "execution_count": 10,
   "metadata": {},
   "outputs": [
    {
     "name": "stdout",
     "output_type": "stream",
     "text": [
      "Employee Object\n",
      "Id:  1\n",
      "Name:  Prem Sharma\n",
      "Gender:  Male\n",
      "Company:  gmr\n",
      "Department:  excavation\n",
      "\n",
      "Doctor Object\n",
      "Id:  1\n",
      "Name:  pankaj\n",
      "Gender:  male\n",
      "Hospital:  aiims\n",
      "Department:  eyes\n"
     ]
    }
   ],
   "source": [
    "class Details:\n",
    "    def __init__(self):\n",
    "        self.__id=\"<No Id>\"\n",
    "        self.__name=\"<No Name>\"\n",
    "        self.__gender=\"<No Gender>\"\n",
    "    def setData(self,id,name,gender):\n",
    "        self.__id=id\n",
    "        self.__name=name\n",
    "        self.__gender=gender\n",
    "    def showData(self):\n",
    "        print(\"Id: \",self.__id)\n",
    "        print(\"Name: \", self.__name)\n",
    "        print(\"Gender: \", self.__gender)\n",
    "\n",
    "class Employee(Details): #Inheritance\n",
    "    def __init__(self):\n",
    "        self.__company=\"<No Company>\"\n",
    "        self.__dept=\"<No Dept>\"\n",
    "    def setEmployee(self,id,name,gender,comp,dept):\n",
    "        self.setData(id,name,gender)\n",
    "        self.__company=comp\n",
    "        self.__dept=dept\n",
    "    def showEmployee(self):\n",
    "        self.showData()\n",
    "        print(\"Company: \", self.__company)\n",
    "        print(\"Department: \", self.__dept)\n",
    "\n",
    "class Doctor(Details): #Inheritance\n",
    "    def __init__(self):\n",
    "        self.__hospital=\"<No Hospital>\"\n",
    "        self.__dept=\"<No Dept>\"\n",
    "    def setEmployee(self,id,name,gender,hos,dept):\n",
    "        self.setData(id,name,gender)\n",
    "        self.__hospital=hos\n",
    "        self.__dept=dept\n",
    "    def showEmployee(self):\n",
    "        self.showData()\n",
    "        print(\"Hospital: \", self.__hospital)\n",
    "        print(\"Department: \", self.__dept)\n",
    "\n",
    "def main():\n",
    "    print(\"Employee Object\")\n",
    "    e=Employee()\n",
    "    e.setEmployee(1,\"Prem Sharma\",\"Male\",\"gmr\",\"excavation\")\n",
    "    e.showEmployee()\n",
    "    print(\"\\nDoctor Object\")\n",
    "    d = Doctor()\n",
    "    d.setEmployee(1, \"pankaj\", \"male\", \"aiims\", \"eyes\")\n",
    "    d.showEmployee()\n",
    "\n",
    "if __name__==\"__main__\":\n",
    "    main()"
   ]
  },
  {
   "cell_type": "markdown",
   "metadata": {},
   "source": [
    "# Abstraction"
   ]
  },
  {
   "cell_type": "code",
   "execution_count": 33,
   "metadata": {},
   "outputs": [
    {
     "name": "stdout",
     "output_type": "stream",
     "text": [
      "I can walk and run\n",
      "I can crawl\n",
      "I can bark\n",
      "I can roar\n"
     ]
    }
   ],
   "source": [
    "from abc import ABC, abstractmethod \n",
    "class Animal(ABC):\n",
    "    @abstractmethod \n",
    "    def move(self): \n",
    "        pass  \n",
    "    \n",
    "class Human(Animal):   \n",
    "    def move(self): \n",
    "        print(\"I can walk and run\") \n",
    "        \n",
    "class Snake(Animal): \n",
    "  \n",
    "    def move(self): \n",
    "        print(\"I can crawl\") \n",
    "  \n",
    "class Dog(Animal): \n",
    "  \n",
    "    def move(self): \n",
    "        print(\"I can bark\") \n",
    "  \n",
    "class Lion(Animal): \n",
    "  \n",
    "    def move(self): \n",
    "        print(\"I can roar\") \n",
    "          \n",
    "# Driver code\n",
    "\n",
    "R = Human() \n",
    "R.move() \n",
    "  \n",
    "K = Snake() \n",
    "K.move() \n",
    "  \n",
    "R = Dog() \n",
    "R.move() \n",
    "  \n",
    "K = Lion() \n",
    "K.move() "
   ]
  },
  {
   "cell_type": "code",
   "execution_count": null,
   "metadata": {},
   "outputs": [],
   "source": []
  }
 ],
 "metadata": {
  "kernelspec": {
   "display_name": "Python 3",
   "language": "python",
   "name": "python3"
  },
  "language_info": {
   "codemirror_mode": {
    "name": "ipython",
    "version": 3
   },
   "file_extension": ".py",
   "mimetype": "text/x-python",
   "name": "python",
   "nbconvert_exporter": "python",
   "pygments_lexer": "ipython3",
   "version": "3.7.4"
  }
 },
 "nbformat": 4,
 "nbformat_minor": 2
}
